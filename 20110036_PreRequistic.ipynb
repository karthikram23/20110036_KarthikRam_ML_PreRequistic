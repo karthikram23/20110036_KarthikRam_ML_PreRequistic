{
  "nbformat": 4,
  "nbformat_minor": 0,
  "metadata": {
    "colab": {
      "provenance": []
    },
    "kernelspec": {
      "name": "python3",
      "display_name": "Python 3"
    },
    "language_info": {
      "name": "python"
    }
  },
  "cells": [
    {
      "cell_type": "code",
      "source": [
        "import time\n",
        "import timeit\n",
        "import numpy as np\n",
        "import pandas as pd"
      ],
      "metadata": {
        "id": "wz9qI9UwaUOG"
      },
      "execution_count": 215,
      "outputs": []
    },
    {
      "cell_type": "markdown",
      "source": [
        "# Q1"
      ],
      "metadata": {
        "id": "S-Cth4VjaYDH"
      }
    },
    {
      "cell_type": "markdown",
      "source": [
        "Matrix multiplication between two matrices of size (n,k) , (k,m) gives a matrix of size(n,m), showing there will be n*m matrices in the matrix, \n",
        "\n",
        "For each element in the matrix to obtain, we should multiply k elements in the row of (n,k) matrix and k elements in the column of (k,m) matrix, \n",
        "which means there will be k multiplications for each element. Since, there are n*m matrices there will be n*m*k multiplications.\n",
        "\n",
        "For K multiplications there will be (k-1) additions(for adding k numbers we need k-1 addition operations for 1 element). \n",
        "so, for n*m elements there will be (n)*(m)*(k-1) \n",
        "\n",
        "\n",
        " multiplications needed to perform a matrix multiplication between (n, k) and (k, m) matrices is: (n)*(m)*(k)\n",
        " \n",
        " Additions needed to perform a matrix multiplication between (n, k) and (k, m) matrices is: (n)*(m)*(k-1)"
      ],
      "metadata": {
        "id": "SnBA3mO3G01A"
      }
    },
    {
      "cell_type": "markdown",
      "source": [
        "# Q2"
      ],
      "metadata": {
        "id": "noBPFk-EGaj7"
      }
    },
    {
      "cell_type": "code",
      "source": [
        "def matrix_multipy(A,B):\n",
        "  m1,n1 = A.shape\n",
        "  m2,n2 = B.shape\n",
        "  C = [[0]*n2 for i in range(m1)]\n",
        "  for i  in range(m1):\n",
        "    for j in range(n2):\n",
        "      for k in range(n1):\n",
        "        C[i][j] += A[i][k]*B[k][j]\n",
        "\n",
        "  return C\n",
        "\n",
        "def print_(C):\n",
        "\n",
        "  m1,n2 = C.shape\n",
        "  print(\"Matrix Multiplication of the A and B matrices\")\n",
        "  for i in range(m1):\n",
        "    for j in range(n2):\n",
        "      print(C[i][j], end = \" \")\n",
        "    print()\n",
        "\n",
        "  \n",
        "A = np.random.randint(0,100,(2,3))\n",
        "B = np.random.randint(0,100,(3,4))\n",
        "C = np.array(matrix_multipy(A,B))\n",
        "print_(C)\n",
        "\n",
        "print(\"Matrix multiplication using numpy\")\n",
        "A= np.array(A)\n",
        "B= np.array(B)\n",
        "C1 = np.dot(A,B)\n",
        "print(C1)"
      ],
      "metadata": {
        "id": "QPWj2RsCFcnD",
        "colab": {
          "base_uri": "https://localhost:8080/"
        },
        "outputId": "a8984f6d-a544-46c1-cd8c-0cad603850a7"
      },
      "execution_count": 216,
      "outputs": [
        {
          "output_type": "stream",
          "name": "stdout",
          "text": [
            "Matrix Multiplication of the A and B matrices\n",
            "9673 8526 5204 7732 \n",
            "15615 10517 9335 13437 \n",
            "Matrix multiplication using numpy\n",
            "[[ 9673  8526  5204  7732]\n",
            " [15615 10517  9335 13437]]\n"
          ]
        }
      ]
    },
    {
      "cell_type": "code",
      "source": [
        "mysetup = '''\n",
        "import numpy as np\n",
        "from __main__ import matrix_multiplication\n",
        "A = np.random.randint(0,100,(100,100))\n",
        "B  = np.random.randint(0,100,(100,100))\n",
        "'''\n",
        "\n",
        "statement = ''' \n",
        "c   = matrix_multiplication(A,B)\n",
        "'''\n",
        "number = 5\n",
        "time = timeit.timeit(setup = mysetup, stmt =statement,number = 5)\n",
        "print(\"execution time of the prgram is : \" + str((time/number)*1000) + \" ms\")\n",
        "\n",
        "statement = '''\n",
        "C = np.dot(A,B)\n",
        "'''\n",
        "time = timeit.timeit(setup = mysetup, stmt =statement ,number = 5)\n",
        "print(\"execution time of numpy module is : \" + str((time/number)*1000) + \" ms\")"
      ],
      "metadata": {
        "colab": {
          "base_uri": "https://localhost:8080/"
        },
        "id": "6-Jr8HKGGOvv",
        "outputId": "e18ecb94-fdfc-47d0-ef00-a64d9dea3181"
      },
      "execution_count": 217,
      "outputs": [
        {
          "output_type": "stream",
          "name": "stdout",
          "text": [
            "execution time of the prgram is : 804.9509720003698 ms\n",
            "execution time of numpy module is : 0.7943540003907401 ms\n"
          ]
        }
      ]
    },
    {
      "cell_type": "markdown",
      "source": [
        "The time difference is huge between a numpy and a normal multiplication program. Numpy breaks down a task into multiple parts and then processes all the parts parallelly, which is why it is faster than the normal multiplication program."
      ],
      "metadata": {
        "id": "yi-HPfYFreAv"
      }
    },
    {
      "cell_type": "markdown",
      "source": [
        "#Q3"
      ],
      "metadata": {
        "id": "OQRqSQQJGlFz"
      }
    },
    {
      "cell_type": "markdown",
      "source": [
        "Let us consider that there is an array of length n.\n",
        "\n",
        "Case1: If n is even, then the median is average of (n/2)th maximum, ((n/2)+1)th maximum elements. From the given information, it takes (n/2) passes to find (n/2+1)th element and (n/2+1) passes to find (n/2) passes. One iteration of an array is n operations.\n",
        "\n",
        "Number of Operations  = (n/2)^2 + ((n/2) + 1)^2 == O(n^2)\n",
        "\n",
        "Time Complexity = O(n^2)\n",
        "\n",
        "Case2: If n is odd, then the median is ((n+1)/2)th maximum elements. From the given information,  One iteration of an array is n operations.\n",
        "\n",
        "Number of Operations = ((n+1)/2)^2 == O(n^2)\n",
        "\n",
        "Time Complexity = O(n^2)\n",
        "\n",
        "Optimised Methods:\n",
        "\n",
        "1. Sort the elements in the array and find the median of the array, which takes the time complexity O(n(logn))\n"
      ],
      "metadata": {
        "id": "vcJ0xW8jGUhm"
      }
    },
    {
      "cell_type": "code",
      "source": [
        "import time\n",
        "import timeit\n",
        "import numpy as np\n",
        "\n",
        "def normal_median_find(A):\n",
        "    n = len(A)\n",
        "    freq = {}\n",
        "    for i in range((n//2)+1):\n",
        "        maximum_index = -1\n",
        "        for j in range(n):\n",
        "            freq.setdefault(j,-1)\n",
        "            if freq[j] == -1:\n",
        "                if maximum_index == -1:\n",
        "                    maximum_index = j\n",
        "                    \n",
        "                if A[j] >= A[maximum_index]:\n",
        "                    maximum_index = j\n",
        "                    \n",
        "        if i == n//2-1:\n",
        "            max1 = A[maximum_index]\n",
        "        if i == n//2:\n",
        "            max2 = A[maximum_index]\n",
        "            \n",
        "        freq[maximum_index] = 1\n",
        "        \n",
        "    if n%2 == 0:\n",
        "        median = (max1+max2)/2\n",
        "    else:\n",
        "        median = max2\n",
        "        \n",
        "    return median\n",
        "\n",
        "def optimum_median_find(arr):\n",
        "    n = len(arr)\n",
        "    arr.sort()\n",
        "    \n",
        "    if n%2 == 0:\n",
        "        return (arr[n//2] + arr[n//2-1])/2\n",
        "    else:\n",
        "        return arr[n//2]\n",
        "    \n"
      ],
      "metadata": {
        "id": "-xj_GLhyGRtN"
      },
      "execution_count": 218,
      "outputs": []
    },
    {
      "cell_type": "code",
      "source": [
        "A = np.random.randint(8,100,(4))\n",
        "print(A)\n",
        "median = normal_median_find(A)\n",
        "print(\"The median of array A is \", str(median))\n",
        "print()\n",
        "median = optimum_median_find(A)\n",
        "print(\"The median of array A using optimised method \", str(median))\n",
        "print()\n",
        "print(\"Median of array A using numpy \", str(np.median(A)))\n",
        "print()"
      ],
      "metadata": {
        "colab": {
          "base_uri": "https://localhost:8080/"
        },
        "id": "k0HRx7asG9lA",
        "outputId": "78101b13-b1bf-442d-d83f-ca54739a97cb"
      },
      "execution_count": 219,
      "outputs": [
        {
          "output_type": "stream",
          "name": "stdout",
          "text": [
            "[79 31 84 60]\n",
            "The median of array A is  69.5\n",
            "\n",
            "The median of array A using optimised method  69.5\n",
            "\n",
            "Median of array A using numpy  69.5\n",
            "\n"
          ]
        }
      ]
    },
    {
      "cell_type": "code",
      "source": [
        "def time_find(A):\n",
        "    time_norm, time_optim,time_numpy= [],[],[]\n",
        "    number = 1000\n",
        "    for i in range(number):\n",
        "        start = time.time()\n",
        "        C = normal_median_find(A)\n",
        "        end = time.time()\n",
        "        time_norm.append((end-start)*1000)\n",
        "        start = time.time()\n",
        "        c = optimum_median_find(A)\n",
        "        end = time.time()\n",
        "        time_optim.append((end-start)*1000)\n",
        "        start = time.time()\n",
        "        d = optimum_median_find(A)\n",
        "        end = time.time()\n",
        "        time_numpy.append((end-start)*1000)\n",
        "        \n",
        "        \n",
        "    norm_mean,norm_std = np.mean(np.array(time_norm)),np.std(np.array(time_norm))\n",
        "    optim_mean,optim_std = np.mean(np.array(time_optim)),np.std(np.array(time_optim))\n",
        "    numpy_mean, numpy_std = np.mean(np.array(time_numpy)), np.std(np.array(time_numpy))\n",
        "    return norm_mean,norm_std,optim_mean,optim_std,numpy_mean,numpy_std\n",
        "\n",
        "A = np.random.randint(8,100,(100))\n",
        "norm_mean,norm_std, optim_mean,optim_std, numpy_mean, numpy_std = time_find(A)\n",
        "print(\"The mean of the normal program is\", norm_mean, \",\" \"The standard deviation of the normal program is\", norm_std)\n",
        "print(\"The mean of the optimum program is\",optim_mean, \",\" \"The standard deviation of the optimum program is\", optim_std)\n",
        "print(\"The mean of the numpy module is\", numpy_mean, \",\" \"The standard deviation of the numpy module is\", numpy_std)"
      ],
      "metadata": {
        "colab": {
          "base_uri": "https://localhost:8080/"
        },
        "id": "KYxv_NSIHAcX",
        "outputId": "98c90039-efec-4eef-f9a4-a63705c67063"
      },
      "execution_count": 220,
      "outputs": [
        {
          "output_type": "stream",
          "name": "stdout",
          "text": [
            "The mean of the normal program is 1.909470796585083 ,The standard deviation of the normal program is 0.23872124715029483\n",
            "The mean of the optimum program is 0.016075611114501953 ,The standard deviation of the optimum program is 0.05341462426006161\n",
            "The mean of the numpy module is 0.01591658592224121 ,The standard deviation of the numpy module is 0.055799335174393186\n"
          ]
        }
      ]
    },
    {
      "cell_type": "code",
      "source": [
        "mysetup = '''\n",
        "import numpy as np\n",
        "from __main__ import normal_median_find\n",
        "A = np.random.randint(0,100,(100))\n",
        "'''\n",
        "\n",
        "statement = ''' \n",
        "c   = normal_median_find(A)\n",
        "'''\n",
        "number = 1000\n",
        "time = timeit.timeit(setup = mysetup, stmt =statement,number = 1000)\n",
        "print(\"execution time of the prgram is : \" + str((time/number)*1000) + \" ms\")\n",
        "\n",
        "statement = '''\n",
        "import numpy as np\n",
        "C = np.median(A)\n",
        "\n",
        "'''\n",
        "time = timeit.timeit(setup = mysetup, stmt =statement ,number = 1000)\n",
        "print(\"execution time of numpy module is : \" + str((time/number)*1000) + \" ms\")"
      ],
      "metadata": {
        "colab": {
          "base_uri": "https://localhost:8080/"
        },
        "id": "6X8YpWYkHCY3",
        "outputId": "be637476-5fd4-4ac8-a766-a2db8b000c43"
      },
      "execution_count": 221,
      "outputs": [
        {
          "output_type": "stream",
          "name": "stdout",
          "text": [
            "execution time of the prgram is : 1.9014353659986227 ms\n",
            "execution time of numpy module is : 0.024849998000718188 ms\n"
          ]
        }
      ]
    },
    {
      "cell_type": "markdown",
      "source": [
        "# Q4"
      ],
      "metadata": {
        "id": "T5nIhfuBHJoA"
      }
    },
    {
      "cell_type": "markdown",
      "source": [
        "$ Function\\; : \\; x^{2}y + y^{3}sin(x) $\n",
        "\n",
        "$ The\\;   gradient\\;  function\\;  wrt\\;  x\\; : \\; 2xy + y^{3}cos(x) $\n",
        "\n",
        "$ The\\; gradient\\; function\\; wrt\\; y\\; : \\; x^{2} + 3y^{2}sin(x) $"
      ],
      "metadata": {
        "id": "xP9XK2qAHPEY"
      }
    },
    {
      "cell_type": "markdown",
      "source": [
        "# Q5"
      ],
      "metadata": {
        "id": "Bt1t_TzDHRGg"
      }
    },
    {
      "cell_type": "code",
      "source": [
        "import jax\n",
        "import jax.numpy as jnp \n",
        "from jax import random\n",
        "\n",
        "\n",
        "def g(x): \n",
        "  a,b = x[0],x[1]\n",
        "  return ((a**2)*b)+((b**3)*jnp.sin(a))\n",
        "\n",
        "def differ_gxy(x):\n",
        "  a,b = x[0],x[1]\n",
        "  return ((2*a)*b + (b**3)*jnp.cos(a)), ((a**2)+(3*(b)**2)*jnp.sin(a))\n",
        "\n",
        "gradf = jax.grad(g)\n",
        "\n",
        "x = np.random.uniform(1,2,(5,2))\n",
        "for i in range(5):\n",
        "\n",
        "  print(f\"gradient from jax {gradf(x[i])}  | gradient computed manually {differ_gxy(x[i])[0]}, {differ_gxy(x[i])[1]}\")\n",
        "\n"
      ],
      "metadata": {
        "id": "wsA3_CGBHUI3",
        "colab": {
          "base_uri": "https://localhost:8080/"
        },
        "outputId": "cfbcd496-e27e-4434-9ff2-be938995a261"
      },
      "execution_count": 222,
      "outputs": [
        {
          "output_type": "stream",
          "name": "stdout",
          "text": [
            "gradient from jax [3.9559598 5.7281275]  | gradient computed manually 3.9559593200683594, 5.7281270027160645\n",
            "gradient from jax [ 5.3161054 10.209996 ]  | gradient computed manually 5.316105365753174, 10.209997177124023\n",
            "gradient from jax [4.479385 8.878315]  | gradient computed manually 4.4793853759765625, 8.878315925598145\n",
            "gradient from jax [3.5062149 5.8340025]  | gradient computed manually 3.5062146186828613, 5.834002494812012\n",
            "gradient from jax [4.4180074 9.10186  ]  | gradient computed manually 4.418006896972656, 9.101859092712402\n"
          ]
        }
      ]
    },
    {
      "cell_type": "markdown",
      "source": [
        "# Q6"
      ],
      "metadata": {
        "id": "9CKWADRpHXVP"
      }
    },
    {
      "cell_type": "code",
      "source": [
        "import sympy as sy\n",
        "x = sy.Symbol('x')\n",
        "y = sy.Symbol('y')\n",
        "func = (x**2)*y + (y**3)*sy.sin(x)\n",
        "\n",
        "print(\"Given Function: \", func)\n",
        "print(\"function differentiate wrt x: \", sy.diff(func,x))\n",
        "print(\"function differentiate wrt y: \", sy.diff(func,y))"
      ],
      "metadata": {
        "id": "K4zsdqWxHWpQ",
        "colab": {
          "base_uri": "https://localhost:8080/"
        },
        "outputId": "aa8dd69e-6501-47f3-b128-9b2d6d8196c5"
      },
      "execution_count": 223,
      "outputs": [
        {
          "output_type": "stream",
          "name": "stdout",
          "text": [
            "Given Function:  x**2*y + y**3*sin(x)\n",
            "function differentiate wrt x:  2*x*y + y**3*cos(x)\n",
            "function differentiate wrt y:  x**2 + 3*y**2*sin(x)\n"
          ]
        }
      ]
    },
    {
      "cell_type": "markdown",
      "source": [
        "# Q7"
      ],
      "metadata": {
        "id": "TNNvZrfAHbt_"
      }
    },
    {
      "cell_type": "code",
      "source": [
        "database ={}\n",
        "\n",
        "year_2022={}\n",
        "Branch1_2022= {}\n",
        "Branch2_2022 = {}\n",
        "\n",
        "Branch1_2022[1] = {'Roll Number': '20110036', 'Name': 'Karthik', 'Marks': {'Maths': '100', 'English': '70'}}\n",
        "Branch2_2022[2] = {'Roll Number': '20110345', 'Name': 'Ram', 'Marks': {'Maths': '90', 'English': '80'}}\n",
        "\n",
        "year_2022[1] = Branch1_2022\n",
        "year_2022[2] = Branch2_2022    \n",
        "\n",
        "year_2023 = {}\n",
        "Branch1_2023 = {}\n",
        "Branch2_2023 = {}\n",
        "\n",
        "Branch1_2023[1] = {'Roll Number': '21110036', 'Name': 'Abhi', 'Marks': {'Maths': '50', 'English': '60'}}\n",
        "Branch2_2023[2] = {'Roll Number': '21110345', 'Name': 'Akshay', 'Marks': {'Maths': '60', 'English': '80'}}\n",
        "\n",
        "year_2023[1] = Branch1_2023\n",
        "year_2023[2] = Branch2_2023\n",
        "\n",
        "database[2022] = year_2022\n",
        "database[2023] = year_2023\n",
        "\n",
        "print(database)"
      ],
      "metadata": {
        "id": "ehzXBX__Ha0P",
        "colab": {
          "base_uri": "https://localhost:8080/"
        },
        "outputId": "04aa409c-9ecc-4d26-b8fb-05d7dabf551e"
      },
      "execution_count": 224,
      "outputs": [
        {
          "output_type": "stream",
          "name": "stdout",
          "text": [
            "{2022: {1: {1: {'Roll Number': '20110036', 'Name': 'Karthik', 'Marks': {'Maths': '100', 'English': '70'}}}, 2: {2: {'Roll Number': '20110345', 'Name': 'Ram', 'Marks': {'Maths': '90', 'English': '80'}}}}, 2023: {1: {1: {'Roll Number': '21110036', 'Name': 'Abhi', 'Marks': {'Maths': '50', 'English': '60'}}}, 2: {2: {'Roll Number': '21110345', 'Name': 'Akshay', 'Marks': {'Maths': '60', 'English': '80'}}}}}\n"
          ]
        }
      ]
    },
    {
      "cell_type": "markdown",
      "source": [
        "# Q8"
      ],
      "metadata": {
        "id": "vZp0bmjnHir3"
      }
    },
    {
      "cell_type": "code",
      "source": [
        "\n",
        "class year:\n",
        "    \n",
        "    def __init__(self, year):\n",
        "        self.acad_year = year\n",
        "        self.branches = []\n",
        "\n",
        "    def __str__(self):\n",
        "      return f\"{self.aca_year},{self.branches})\"\n",
        "    \n",
        "\n",
        "class branch:\n",
        "    \n",
        "    def __init__(self,name):\n",
        "        self.branch_name = name\n",
        "        self.students = []\n",
        "\n",
        "    def __str__(self):\n",
        "      return f\"{self.branch_name},{self.students})\"\n",
        "  \n",
        "\n",
        "class student:\n",
        "    \n",
        "    def __init__(self, Name, Roll_no, subjects, marks): \n",
        "        self.Name = Name\n",
        "        self.Roll_no = Roll_no\n",
        "        self.marks = marks\n",
        "        self.subjects = subjects \n",
        "\n",
        "    def __str__(self):\n",
        "      return f\"{self.Name},{self.Roll_no},{self.marks},{self.subjects})\" \n",
        "\n",
        "\n",
        "\n",
        "s1 = student(\"Karthik\", 20110036, [\"Maths\", \"English\"],[70, 80])\n",
        "s2 = student(\"Ram\", 20110126, [\"Maths\", \"English\"],[80, 90])\n",
        "b1 = branch(\"CSE\")\n",
        "b2 = branch(\"ME\")\n",
        "b3 = branch(\"EE\")\n",
        "b4 = branch(\"CE\")\n",
        "b1.students.append(s1)\n",
        "b2.students.append(s2)\n",
        "\n",
        "y1 = year(\"2022\")\n",
        "y1.branches.append(b1)\n",
        "y1.branches.append(b2)\n",
        "\n",
        "\n",
        "s3 = student(\"Abhi\", 21110036, [\"Maths\", \"Science\"],[50, 39])\n",
        "s4 = student(\"Abay\", 21110126, [\"Maths\", \"Sience\"],[60, 45])\n",
        "\n",
        "b3.students.append(s3)\n",
        "b4.students.append(s4)\n",
        "\n",
        "y2 = year(\"2023\")\n",
        "y2.branches.append(b3)\n",
        "y2.branches.append(b4)\n",
        "\n",
        "\n",
        "years = [y1,y2]\n",
        "\n",
        "for i in years:\n",
        "    print(i.acad_year)\n",
        "    for j in i.branches:\n",
        "        for k in j.students : \n",
        "            print(f\"{k.Name},{k.Roll_no},{k.marks},{k.subjects}\")\n",
        "\n",
        "\n",
        "\n",
        "\n",
        "\n"
      ],
      "metadata": {
        "colab": {
          "base_uri": "https://localhost:8080/"
        },
        "id": "QFVJy0pZ9Tw8",
        "outputId": "98d35705-8df4-4eb0-c2c3-a4a67098e3a8"
      },
      "execution_count": 225,
      "outputs": [
        {
          "output_type": "stream",
          "name": "stdout",
          "text": [
            "2022\n",
            "Karthik,20110036,[70, 80],['Maths', 'English']\n",
            "Ram,20110126,[80, 90],['Maths', 'English']\n",
            "2023\n",
            "Abhi,21110036,[50, 39],['Maths', 'Science']\n",
            "Abay,21110126,[60, 45],['Maths', 'Sience']\n"
          ]
        }
      ]
    },
    {
      "cell_type": "markdown",
      "source": [
        "# Q9"
      ],
      "metadata": {
        "id": "T6nQYwy_Hxqr"
      }
    },
    {
      "cell_type": "code",
      "source": [
        "import matplotlib.pyplot as plt\n",
        "\n",
        "x = np.linspace(0.5,100,199)\n",
        "\n",
        "y = x\n",
        "\n",
        "\n",
        "fig = plt.figure()\n",
        "ax = fig.add_subplot(1, 1, 1)\n",
        "plt.title('y=x')\n",
        "plt.xlabel('x-axis')\n",
        "plt.ylabel('y-axis')\n",
        "plt.plot(x,y, 'g')\n",
        "\n",
        "\n",
        "plt.show()"
      ],
      "metadata": {
        "id": "fynEHH_lHz-b",
        "colab": {
          "base_uri": "https://localhost:8080/",
          "height": 295
        },
        "outputId": "88625869-1fc0-45db-d066-e6047b9dd22b"
      },
      "execution_count": 226,
      "outputs": [
        {
          "output_type": "display_data",
          "data": {
            "text/plain": [
              "<Figure size 432x288 with 1 Axes>"
            ],
            "image/png": "[encoded data removed]"
          },
          "metadata": {
            "needs_background": "light"
          }
        }
      ]
    },
    {
      "cell_type": "code",
      "source": [
        "\n",
        "y = x**2\n",
        "\n",
        "fig = plt.figure()\n",
        "\n",
        "plt.title('y=x^2')\n",
        "plt.xlabel('x-axis')\n",
        "plt.ylabel('y-axis')\n",
        "plt.plot(x,y, 'g')\n",
        "plt.show()"
      ],
      "metadata": {
        "id": "_Pf-zNgsH2uE",
        "colab": {
          "base_uri": "https://localhost:8080/",
          "height": 295
        },
        "outputId": "be2239bb-97ec-423c-9210-0252a22acadf"
      },
      "execution_count": 227,
      "outputs": [
        {
          "output_type": "display_data",
          "data": {
            "text/plain": [
              "<Figure size 432x288 with 1 Axes>"
            ],
            "image/png": "[encoded data removed]"
          },
          "metadata": {
            "needs_background": "light"
          }
        }
      ]
    },
    {
      "cell_type": "code",
      "source": [
        "y = x**3/100\n",
        "\n",
        "fig = plt.figure()\n",
        "\n",
        "plt.title('y=x^3/100')\n",
        "plt.xlabel('x-axis')\n",
        "plt.ylabel('y-axis')\n",
        "plt.plot(x,y, 'g')\n",
        "\n",
        "plt.show()"
      ],
      "metadata": {
        "id": "EJdMRicHH5Am",
        "colab": {
          "base_uri": "https://localhost:8080/",
          "height": 295
        },
        "outputId": "9319f7d1-cdfd-4410-e1dd-38edb99ce7e4"
      },
      "execution_count": 228,
      "outputs": [
        {
          "output_type": "display_data",
          "data": {
            "text/plain": [
              "<Figure size 432x288 with 1 Axes>"
            ],
            "image/png": "[encoded data removed]"
          },
          "metadata": {
            "needs_background": "light"
          }
        }
      ]
    },
    {
      "cell_type": "code",
      "source": [
        "y = np.sin(x)\n",
        "\n",
        "fig = plt.figure()\n",
        "\n",
        "plt.title('y=sin(x)')\n",
        "plt.xlabel('x-axis')\n",
        "plt.ylabel('y-axis')\n",
        "\n",
        "plt.plot(x,y, 'c')\n",
        "plt.show()\n"
      ],
      "metadata": {
        "id": "Xnr9i_JMH7C8",
        "colab": {
          "base_uri": "https://localhost:8080/",
          "height": 295
        },
        "outputId": "4ba1d076-f77b-4e6f-ebba-66198d56305b"
      },
      "execution_count": 78,
      "outputs": [
        {
          "output_type": "display_data",
          "data": {
            "text/plain": [
              "<Figure size 432x288 with 1 Axes>"
            ],
            "image/png": "[encoded data removed]"
          },
          "metadata": {
            "needs_background": "light"
          }
        }
      ]
    },
    {
      "cell_type": "code",
      "source": [
        "y = np.sin(x)/x\n",
        "\n",
        "fig = plt.figure()\n",
        "\n",
        "plt.title('y=sin(x)/x')\n",
        "plt.xlabel('x-axis')\n",
        "plt.ylabel('y-axis')\n",
        "\n",
        "plt.plot(x,y, 'c')\n",
        "plt.show()"
      ],
      "metadata": {
        "id": "vt2Fy5u-IBqP",
        "colab": {
          "base_uri": "https://localhost:8080/",
          "height": 295
        },
        "outputId": "19f8dc2b-c702-4dd7-ddd4-75c05a775a97"
      },
      "execution_count": 79,
      "outputs": [
        {
          "output_type": "display_data",
          "data": {
            "text/plain": [
              "<Figure size 432x288 with 1 Axes>"
            ],
            "image/png": "[encoded data removed]"
          },
          "metadata": {
            "needs_background": "light"
          }
        }
      ]
    },
    {
      "cell_type": "code",
      "source": [
        "y = (np.log10(x))\n",
        "\n",
        "fig = plt.figure()\n",
        "\n",
        "plt.title('y=log(x)')\n",
        "plt.xlabel('x-axis')\n",
        "plt.ylabel('y-axis')\n",
        "\n",
        "plt.plot(x,y, 'y')\n",
        "plt.show()"
      ],
      "metadata": {
        "id": "85Vb8AmpIEOX",
        "colab": {
          "base_uri": "https://localhost:8080/",
          "height": 295
        },
        "outputId": "0ab5931d-ef57-47f9-f1ca-6aed87717d05"
      },
      "execution_count": 214,
      "outputs": [
        {
          "output_type": "display_data",
          "data": {
            "text/plain": [
              "<Figure size 432x288 with 1 Axes>"
            ],
            "image/png": "[encoded data removed]"
          },
          "metadata": {
            "needs_background": "light"
          }
        }
      ]
    },
    {
      "cell_type": "code",
      "source": [
        "y = np.exp(x)\n",
        "\n",
        "\n",
        "fig = plt.figure()\n",
        "\n",
        "plt.title('y=e^x')\n",
        "plt.xlabel('x-axis')\n",
        "plt.ylabel('y-axis')\n",
        "\n",
        "\n",
        "plt.plot(x,y, 'y')\n",
        "plt.show()"
      ],
      "metadata": {
        "id": "9GzG7h5eIG1I",
        "colab": {
          "base_uri": "https://localhost:8080/",
          "height": 295
        },
        "outputId": "7c5c305c-1bf7-4ae4-9215-dbabe17fc083"
      },
      "execution_count": 81,
      "outputs": [
        {
          "output_type": "display_data",
          "data": {
            "text/plain": [
              "<Figure size 432x288 with 1 Axes>"
            ],
            "image/png": "[encoded data removed]"
          },
          "metadata": {
            "needs_background": "light"
          }
        }
      ]
    },
    {
      "cell_type": "markdown",
      "source": [
        "# Q10"
      ],
      "metadata": {
        "id": "QGVV_VmgIbzp"
      }
    },
    {
      "cell_type": "code",
      "source": [
        "\n",
        "dataframe = pd.DataFrame(np.random.uniform(1,2, size=(20, 5)),columns=['a', 'b', 'c', 'd', 'e'])\n",
        "print(dataframe)  \n",
        "\n",
        "a = dataframe.std()\n",
        "b = dataframe.mean()\n",
        "\n",
        "maxi = 0\n",
        "max = 0\n",
        "\n",
        "for i in range(1,5):\n",
        "  if a[maxi]<=a[i]:\n",
        "    maxi = i;\n",
        "\n",
        "for i in range(1,5):\n",
        "  if b[i]<=b[max]:\n",
        "    max = i;\n",
        "  \n",
        "\n",
        "\n",
        "print(a)\n",
        "print(\"The column with highest standard deviation is\", dataframe.columns[maxi])\n",
        "print(b)\n",
        "print(\"The column with highest mean is\", dataframe.columns[max])\n"
      ],
      "metadata": {
        "id": "csaMG3dyII7n",
        "colab": {
          "base_uri": "https://localhost:8080/"
        },
        "outputId": "947caf61-6484-4c3d-dbda-7ac3a44b18b1"
      },
      "execution_count": 83,
      "outputs": [
        {
          "output_type": "stream",
          "name": "stdout",
          "text": [
            "           a         b         c         d         e\n",
            "0   1.821896  1.532923  1.458767  1.261468  1.230316\n",
            "1   1.502741  1.592256  1.146286  1.203220  1.097307\n",
            "2   1.426748  1.427407  1.904076  1.128755  1.018456\n",
            "3   1.391335  1.929271  1.800338  1.004905  1.163898\n",
            "4   1.732752  1.591606  1.901588  1.912535  1.097596\n",
            "5   1.133501  1.539499  1.095183  1.886768  1.658953\n",
            "6   1.554160  1.215529  1.876402  1.318062  1.223281\n",
            "7   1.892443  1.814626  1.295156  1.298016  1.274464\n",
            "8   1.667189  1.329089  1.318965  1.208015  1.925638\n",
            "9   1.747412  1.758456  1.153394  1.846679  1.921646\n",
            "10  1.519612  1.541154  1.411347  1.942356  1.671300\n",
            "11  1.488583  1.324670  1.717470  1.522494  1.829123\n",
            "12  1.817298  1.324202  1.498616  1.040255  1.193292\n",
            "13  1.531936  1.019405  1.000413  1.127592  1.506889\n",
            "14  1.923968  1.405489  1.903274  1.334186  1.942733\n",
            "15  1.263941  1.838687  1.975750  1.233390  1.585182\n",
            "16  1.289574  1.080271  1.956952  1.236754  1.957455\n",
            "17  1.980382  1.063299  1.113769  1.705870  1.967437\n",
            "18  1.494799  1.837280  1.000990  1.415510  1.571150\n",
            "19  1.589453  1.279693  1.036199  1.560261  1.248094\n",
            "a    0.231649\n",
            "b    0.273065\n",
            "c    0.366228\n",
            "d    0.301746\n",
            "e    0.339063\n",
            "dtype: float64\n",
            "The column with highest standard deviation is c\n",
            "a    1.588486\n",
            "b    1.472241\n",
            "c    1.478247\n",
            "d    1.409355\n",
            "e    1.504211\n",
            "dtype: float64\n",
            "The column with highest mean is d\n"
          ]
        }
      ]
    },
    {
      "cell_type": "markdown",
      "source": [
        "# Q11"
      ],
      "metadata": {
        "id": "zteFz4IXIXQK"
      }
    },
    {
      "cell_type": "code",
      "source": [
        "dataframe['f'] = dataframe.apply(lambda row:row['a'] + row['b'] + row['c']+ row['d']+ row['e'], axis =1)\n",
        "dataframe['g'] = dataframe['f'].apply(lambda row:\"LT8\" if row<8 else \"GT8\")\n",
        "\n",
        "print(\"Number of rows in the dataframe where the value in the column “g” is “LT8” is \", len(dataframe[dataframe[\"g\"] == \"LT8\"]))\n",
        "\n",
        "print(\"The standard deviation of the column “f” for the rows where the value in the column “g” is “LT8” is\", dataframe['f'][dataframe['g'] == 'LT8'].std() )\n",
        "\n",
        "print(\"The standard deviation of the column “f” for the rows where the value in the column “g” is “GT8” is\", dataframe['f'][dataframe['g'] == \"GT8\"].std())"
      ],
      "metadata": {
        "id": "cwkfUNSgIL4x",
        "colab": {
          "base_uri": "https://localhost:8080/"
        },
        "outputId": "05538b22-16e5-495c-afb5-b52681e7ca6f"
      },
      "execution_count": 84,
      "outputs": [
        {
          "output_type": "stream",
          "name": "stdout",
          "text": [
            "Number of rows in the dataframe where the value in the column “g” is “LT8” is  16\n",
            "The standard deviation of the column “f” for the rows where the value in the column “g” is “LT8” is 0.48785264252912364\n",
            "The standard deviation of the column “f” for the rows where the value in the column “g” is “GT8” is 0.19091009553283184\n"
          ]
        }
      ]
    },
    {
      "cell_type": "markdown",
      "source": [
        "# Q12"
      ],
      "metadata": {
        "id": "S3Be3UZtIT_h"
      }
    },
    {
      "cell_type": "code",
      "source": [
        "A = np.array([[1,2,3],[4,5,6],[7,8,0]])\n",
        "B = np.array([1,2,3])\n",
        "C = np.zeros(A.shape)\n",
        "\n",
        "for i in range(3):\n",
        "  for j in range(3):\n",
        "    C[i][j] = A[i][j] + B[j]\n",
        "print(C)\n",
        "print()\n",
        "#broadcasting\n",
        "C = A+B \n",
        "\n",
        "\n",
        "print(C)\n",
        "print()"
      ],
      "metadata": {
        "id": "Szr9DEh8IO1C",
        "colab": {
          "base_uri": "https://localhost:8080/"
        },
        "outputId": "a9aad369-71f0-4210-c54a-083aa5499431"
      },
      "execution_count": 85,
      "outputs": [
        {
          "output_type": "stream",
          "name": "stdout",
          "text": [
            "[[ 2.  4.  6.]\n",
            " [ 5.  7.  9.]\n",
            " [ 8. 10.  3.]]\n",
            "\n",
            "[[ 2  4  6]\n",
            " [ 5  7  9]\n",
            " [ 8 10  3]]\n",
            "\n"
          ]
        }
      ]
    },
    {
      "cell_type": "markdown",
      "source": [
        "# Q13"
      ],
      "metadata": {
        "id": "Hk34rYJrIiBF"
      }
    },
    {
      "cell_type": "code",
      "source": [
        "def minindex(arr):\n",
        "  arr = arr.flatten()\n",
        "  mini = 0\n",
        "  n = len(arr)\n",
        "  for i in range(n):\n",
        "    if arr[i] < arr[mini]:\n",
        "      mini = i\n",
        "  return mini\n",
        "\n",
        "\n",
        "arr = np.array([[1,2,3],[4,5,6],[7,0,8]])\n",
        "print(\"Argmin from the program \", str(minindex(arr)))\n",
        "print(\"Argmin using numpy:\", str(np.argmin(arr)))"
      ],
      "metadata": {
        "id": "9viOZ9-sIRsh",
        "colab": {
          "base_uri": "https://localhost:8080/"
        },
        "outputId": "48007948-708c-410f-95b4-7bd0907d66f7"
      },
      "execution_count": 94,
      "outputs": [
        {
          "output_type": "stream",
          "name": "stdout",
          "text": [
            "Argmin from the program  7\n",
            "Argmin using numpy: 7\n"
          ]
        }
      ]
    }
  ]
}